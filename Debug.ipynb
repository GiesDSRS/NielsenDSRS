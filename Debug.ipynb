{
 "cells": [
  {
   "cell_type": "markdown",
   "id": "6303f763-bdd7-40db-aec6-697bf334c9b0",
   "metadata": {
    "jp-MarkdownHeadingCollapsed": true
   },
   "source": [
    "## To check the list of packages installed in the client environment:"
   ]
  },
  {
   "cell_type": "code",
   "execution_count": null,
   "id": "f68d73c1-e43a-4125-87a7-269c77ec5885",
   "metadata": {},
   "outputs": [],
   "source": [
    "!pip list"
   ]
  },
  {
   "cell_type": "markdown",
   "id": "5f7716dd-92b8-498c-917f-e9c334b95ad8",
   "metadata": {
    "jp-MarkdownHeadingCollapsed": true
   },
   "source": [
    "## System address:"
   ]
  },
  {
   "cell_type": "code",
   "execution_count": null,
   "id": "6199c8ef-b75f-4e92-a8e1-36b61ec9231f",
   "metadata": {},
   "outputs": [],
   "source": [
    "import socket\n",
    "\n",
    "hostname = socket.gethostname()\n",
    "\n",
    "ip_address = socket.gethostbyname(hostname)\n",
    "\n",
    "print(f\"Hostname: {hostname}\")\n",
    "print(f\"IP Address: {ip_address}\")\n"
   ]
  },
  {
   "cell_type": "markdown",
   "id": "b7ed7c49-24ec-49a7-b321-13e34941430b",
   "metadata": {
    "jp-MarkdownHeadingCollapsed": true
   },
   "source": [
    "## Debug:"
   ]
  },
  {
   "cell_type": "markdown",
   "id": "671657ff-16b9-4343-8dd7-38cd1762ac18",
   "metadata": {},
   "source": [
    "Make sure the NielsenDSRS module and all the dependencies are installed on Dask Client, Scheduler and Worker nodes. The versions should match on all. Following is the code to debug the errors related to the version mismatch"
   ]
  },
  {
   "cell_type": "code",
   "execution_count": null,
   "id": "d4310a7f-cd19-4cc7-ae1d-66819fc5d7b9",
   "metadata": {},
   "outputs": [],
   "source": [
    "from dask.distributed import Client"
   ]
  },
  {
   "cell_type": "code",
   "execution_count": null,
   "id": "112e845b-b00f-4a6f-b127-55d09e8efdbc",
   "metadata": {},
   "outputs": [],
   "source": [
    "# you can only connect to the cluster from inside the DSRS cluster (Cluster consisting of 6 cores with total of 576 GB)\n",
    "client = Client('dask-scheduler.default.svc.cluster.local:8786')\n",
    "client"
   ]
  },
  {
   "cell_type": "markdown",
   "id": "317a3d24-6daf-42a9-a362-1d44b66de23c",
   "metadata": {},
   "source": [
    "### Worker nodes on Dask Cluster:"
   ]
  },
  {
   "cell_type": "code",
   "execution_count": null,
   "id": "7dec6d56-80a8-4116-aeae-bd21f73c4c6e",
   "metadata": {},
   "outputs": [],
   "source": [
    "# To check whether the module is installed on worker nodes in Dask cluster\n",
    "\n",
    "def check_module():\n",
    "    try:\n",
    "        import NielsenDSRS\n",
    "        return \"Installed\"\n",
    "    except ImportError:\n",
    "        return \"Not Installed\"\n",
    "\n",
    "# Run the check across all workers\n",
    "results = client.run(check_module)\n",
    "for worker, result in results.items():\n",
    "    print(f\"{worker}: {result}\")"
   ]
  },
  {
   "cell_type": "markdown",
   "id": "3158069f-b2fa-4007-a98e-ca4e1e4a78e1",
   "metadata": {},
   "source": [
    "### Scheduler on Dask Cluster:"
   ]
  },
  {
   "cell_type": "code",
   "execution_count": null,
   "id": "6456aaae-c686-4796-a40e-8f457e77a989",
   "metadata": {},
   "outputs": [],
   "source": [
    "scheduler_result = client.run_on_scheduler(check_module)\n",
    "print(f\"Scheduler: {scheduler_result}\")"
   ]
  },
  {
   "cell_type": "markdown",
   "id": "df7700e4-b13d-45ee-ae87-bbe77dcc6c39",
   "metadata": {},
   "source": [
    "### Client on Dask Cluster:"
   ]
  },
  {
   "cell_type": "code",
   "execution_count": null,
   "id": "828687d4-621a-460c-80d1-6096ebbd42ff",
   "metadata": {},
   "outputs": [],
   "source": [
    "try:\n",
    "    import NielsenDSRS\n",
    "    print(\"NielsenDSRS is installed on the client.\")\n",
    "except ImportError:\n",
    "    print(\"NielsenDSRS is not installed on the client.\")"
   ]
  },
  {
   "cell_type": "markdown",
   "id": "be4c06a6-6344-420e-87c3-aa39d60fa145",
   "metadata": {
    "jp-MarkdownHeadingCollapsed": true
   },
   "source": [
    "## IMPORTANT: Only use in an anomalous case where module is not installed properly on Scheduler:"
   ]
  },
  {
   "cell_type": "code",
   "execution_count": null,
   "id": "13ac26d5-59c9-4e5b-9836-cddd138f014b",
   "metadata": {},
   "outputs": [],
   "source": [
    "def install_module_scheduler():\n",
    "    import subprocess\n",
    "    import sys\n",
    "    subprocess.check_call([sys.executable, \"-m\", \"pip\", \"install\", \"git+https://github.com/pratikrelekar/NielsenDSRS\"])\n",
    "\n",
    "# Install on scheduler\n",
    "client.run_on_scheduler(install_module_scheduler)"
   ]
  }
 ],
 "metadata": {
  "kernelspec": {
   "display_name": "Python 3 (ipykernel)",
   "language": "python",
   "name": "python3"
  },
  "language_info": {
   "codemirror_mode": {
    "name": "ipython",
    "version": 3
   },
   "file_extension": ".py",
   "mimetype": "text/x-python",
   "name": "python",
   "nbconvert_exporter": "python",
   "pygments_lexer": "ipython3",
   "version": "3.11.7"
  }
 },
 "nbformat": 4,
 "nbformat_minor": 5
}
